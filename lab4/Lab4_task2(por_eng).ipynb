{
  "nbformat": 4,
  "nbformat_minor": 0,
  "metadata": {
    "colab": {
      "provenance": []
    },
    "kernelspec": {
      "name": "python3",
      "display_name": "Python 3"
    },
    "language_info": {
      "name": "python"
    },
    "accelerator": "GPU",
    "gpuClass": "standard"
  },
  "cells": [
    {
      "cell_type": "code",
      "execution_count": 2,
      "metadata": {
        "id": "OO33G0RCVthE"
      },
      "outputs": [],
      "source": [
        "import pathlib\n",
        "import random\n",
        "import string\n",
        "import re\n",
        "import numpy as np\n",
        "import tensorflow as tf\n",
        "from tensorflow import keras\n",
        "from tensorflow.keras import layers\n",
        "from tensorflow.keras.layers import TextVectorization"
      ]
    },
    {
      "cell_type": "code",
      "source": [
        "tf.test.gpu_device_name()"
      ],
      "metadata": {
        "id": "wS_Nt-4darzh",
        "colab": {
          "base_uri": "https://localhost:8080/",
          "height": 36
        },
        "outputId": "40744560-a59b-4d94-ca50-683a119bbfc3"
      },
      "execution_count": 3,
      "outputs": [
        {
          "output_type": "execute_result",
          "data": {
            "text/plain": [
              "'/device:GPU:0'"
            ],
            "application/vnd.google.colaboratory.intrinsic+json": {
              "type": "string"
            }
          },
          "metadata": {},
          "execution_count": 3
        }
      ]
    },
    {
      "cell_type": "code",
      "source": [
        "with open(\"/content/por.txt\") as f:\n",
        "    lines = f.read().split(\"\\n\")[:-1]\n",
        "text_pairs = []\n",
        "for line in lines:\n",
        "    eng = line.split(\"\\t\")[0]\n",
        "    por = line.split(\"\\t\")[1]\n",
        "    por = \"[start] \" + por + \" [end]\"\n",
        "    text_pairs.append((eng, por))"
      ],
      "metadata": {
        "id": "LbLAl0Q-WKMV"
      },
      "execution_count": 4,
      "outputs": []
    },
    {
      "cell_type": "code",
      "source": [
        "for _ in range(5):\n",
        "    print(random.choice(text_pairs))"
      ],
      "metadata": {
        "colab": {
          "base_uri": "https://localhost:8080/"
        },
        "id": "Tc7e3Q4bWQ9m",
        "outputId": "35c07e36-71a7-42a1-ed63-2e276046d84b"
      },
      "execution_count": 5,
      "outputs": [
        {
          "output_type": "stream",
          "name": "stdout",
          "text": [
            "(\"I won't ever do that.\", '[start] Eu nunca vou fazer isso. [end]')\n",
            "('What do you remember?', '[start] De que você se lembra? [end]')\n",
            "(\"Wasn't that Tom's idea?\", '[start] Essa não foi a ideia do Tom? [end]')\n",
            "(\"I've just eaten so I'm not hungry.\", '[start] Eu acabei de comer, então não estou com fome. [end]')\n",
            "('There was plenty of traffic.', '[start] Houve bastante tráfego. [end]')\n"
          ]
        }
      ]
    },
    {
      "cell_type": "code",
      "source": [
        "random.shuffle(text_pairs)\n",
        "num_val_samples = int(0.15 * len(text_pairs))\n",
        "num_train_samples = len(text_pairs) - 2 * num_val_samples\n",
        "train_pairs = text_pairs[:num_train_samples]\n",
        "val_pairs = text_pairs[num_train_samples : num_train_samples + num_val_samples]\n",
        "test_pairs = text_pairs[num_train_samples + num_val_samples :]\n",
        "\n",
        "print(f\"{len(text_pairs)} total pairs\")\n",
        "print(f\"{len(train_pairs)} training pairs\")\n",
        "print(f\"{len(val_pairs)} validation pairs\")\n",
        "print(f\"{len(test_pairs)} test pairs\")"
      ],
      "metadata": {
        "colab": {
          "base_uri": "https://localhost:8080/"
        },
        "id": "1YN0Vi8ia9ws",
        "outputId": "3c807265-69eb-4ebc-c432-807f543a42b7"
      },
      "execution_count": 6,
      "outputs": [
        {
          "output_type": "stream",
          "name": "stdout",
          "text": [
            "184998 total pairs\n",
            "129500 training pairs\n",
            "27749 validation pairs\n",
            "27749 test pairs\n"
          ]
        }
      ]
    },
    {
      "cell_type": "code",
      "source": [
        "strip_chars = string.punctuation + \"¿\"\n",
        "strip_chars = strip_chars.replace(\"[\", \"\")\n",
        "strip_chars = strip_chars.replace(\"]\", \"\")\n",
        "\n",
        "vocab_size = 15000\n",
        "sequence_length = 20\n",
        "batch_size = 64\n",
        "\n",
        "\n",
        "def custom_standardization(input_string):\n",
        "    lowercase = tf.strings.lower(input_string)\n",
        "    return tf.strings.regex_replace(lowercase, \"[%s]\" % re.escape(strip_chars), \"\")\n",
        "\n",
        "\n",
        "eng_vectorization = TextVectorization(\n",
        "    max_tokens=vocab_size, output_mode=\"int\", output_sequence_length=sequence_length,\n",
        ")\n",
        "por_vectorization = TextVectorization(\n",
        "    max_tokens=vocab_size,\n",
        "    output_mode=\"int\",\n",
        "    output_sequence_length=sequence_length + 1,\n",
        "    standardize=custom_standardization,\n",
        ")\n",
        "train_eng_texts = [pair[0] for pair in train_pairs]\n",
        "train_por_texts = [pair[1] for pair in train_pairs]\n",
        "eng_vectorization.adapt(train_eng_texts)\n",
        "por_vectorization.adapt(train_por_texts)"
      ],
      "metadata": {
        "id": "7jfksh5EcdJ0"
      },
      "execution_count": 7,
      "outputs": []
    },
    {
      "cell_type": "code",
      "source": [
        "def format_dataset(eng, por):\n",
        "    eng = eng_vectorization(eng)\n",
        "    por = por_vectorization(por)\n",
        "    return ({\"encoder_inputs\": eng, \"decoder_inputs\": por[:, :-1],}, por[:, 1:])\n",
        "\n",
        "\n",
        "def make_dataset(pairs):\n",
        "    eng_texts, por_texts = zip(*pairs)\n",
        "    eng_texts = list(eng_texts)\n",
        "    por_texts = list(por_texts)\n",
        "    dataset = tf.data.Dataset.from_tensor_slices((eng_texts, por_texts))\n",
        "    dataset = dataset.batch(batch_size)\n",
        "    dataset = dataset.map(format_dataset)\n",
        "    return dataset.shuffle(2048).prefetch(16).cache()\n",
        "\n",
        "\n",
        "train_ds = make_dataset(train_pairs)\n",
        "val_ds = make_dataset(val_pairs)"
      ],
      "metadata": {
        "id": "uP0K9RSec_Wk"
      },
      "execution_count": 8,
      "outputs": []
    },
    {
      "cell_type": "code",
      "source": [
        "for inputs, targets in train_ds.take(1):\n",
        "    print(f'inputs[\"encoder_inputs\"].shape: {inputs[\"encoder_inputs\"].shape}')\n",
        "    print(f'inputs[\"decoder_inputs\"].shape: {inputs[\"decoder_inputs\"].shape}')\n",
        "    print(f\"targets.shape: {targets.shape}\")\n",
        "\n",
        "for inputs, targets in val_ds.take(1):\n",
        "    print(f'inputs[\"encoder_inputs\"].shape: {inputs[\"encoder_inputs\"].shape}')\n",
        "    print(f'inputs[\"decoder_inputs\"].shape: {inputs[\"decoder_inputs\"].shape}')\n",
        "    print(f\"val.shape: {targets.shape}\")"
      ],
      "metadata": {
        "colab": {
          "base_uri": "https://localhost:8080/"
        },
        "id": "GdJUSWgIUp0p",
        "outputId": "e3ecfcfe-2afe-4950-a2ce-1ac21a1dcfb9"
      },
      "execution_count": 9,
      "outputs": [
        {
          "output_type": "stream",
          "name": "stdout",
          "text": [
            "inputs[\"encoder_inputs\"].shape: (64, 20)\n",
            "inputs[\"decoder_inputs\"].shape: (64, 20)\n",
            "targets.shape: (64, 20)\n",
            "inputs[\"encoder_inputs\"].shape: (64, 20)\n",
            "inputs[\"decoder_inputs\"].shape: (64, 20)\n",
            "val.shape: (64, 20)\n"
          ]
        }
      ]
    },
    {
      "cell_type": "code",
      "source": [
        "class TransformerEncoder(layers.Layer):\n",
        "    def __init__(self, embed_dim, dense_dim, num_heads, **kwargs):\n",
        "        super(TransformerEncoder, self).__init__(**kwargs)\n",
        "        self.embed_dim = embed_dim\n",
        "        self.dense_dim = dense_dim\n",
        "        self.num_heads = num_heads\n",
        "        self.attention = layers.MultiHeadAttention(\n",
        "            num_heads=num_heads, key_dim=embed_dim\n",
        "        )\n",
        "        self.dense_proj = keras.Sequential(\n",
        "            [layers.Dense(dense_dim, activation=\"relu\"), layers.Dense(embed_dim),]\n",
        "        )\n",
        "        self.layernorm_1 = layers.LayerNormalization()\n",
        "        self.layernorm_2 = layers.LayerNormalization()\n",
        "        self.supports_masking = True\n",
        "\n",
        "    def call(self, inputs, mask=None):\n",
        "        if mask is not None:\n",
        "            padding_mask = tf.cast(mask[:, tf.newaxis, tf.newaxis, :], dtype=\"int32\")\n",
        "        attention_output = self.attention(\n",
        "            query=inputs, value=inputs, key=inputs, attention_mask=padding_mask\n",
        "        )\n",
        "        proj_input = self.layernorm_1(inputs + attention_output)\n",
        "        proj_output = self.dense_proj(proj_input)\n",
        "        return self.layernorm_2(proj_input + proj_output)\n",
        "\n",
        "\n",
        "class PositionalEmbedding(layers.Layer):\n",
        "    def __init__(self, sequence_length, vocab_size, embed_dim, **kwargs):\n",
        "        super(PositionalEmbedding, self).__init__(**kwargs)\n",
        "        self.token_embeddings = layers.Embedding(\n",
        "            input_dim=vocab_size, output_dim=embed_dim\n",
        "        )\n",
        "        self.position_embeddings = layers.Embedding(\n",
        "            input_dim=sequence_length, output_dim=embed_dim\n",
        "        )\n",
        "        self.sequence_length = sequence_length\n",
        "        self.vocab_size = vocab_size\n",
        "        self.embed_dim = embed_dim\n",
        "\n",
        "    def call(self, inputs):\n",
        "        length = tf.shape(inputs)[-1]\n",
        "        positions = tf.range(start=0, limit=length, delta=1)\n",
        "        embedded_tokens = self.token_embeddings(inputs)\n",
        "        embedded_positions = self.position_embeddings(positions)\n",
        "        return embedded_tokens + embedded_positions\n",
        "\n",
        "    def compute_mask(self, inputs, mask=None):\n",
        "        return tf.math.not_equal(inputs, 0)\n",
        "\n",
        "\n",
        "class TransformerDecoder(layers.Layer):\n",
        "    def __init__(self, embed_dim, latent_dim, num_heads, **kwargs):\n",
        "        super(TransformerDecoder, self).__init__(**kwargs)\n",
        "        self.embed_dim = embed_dim\n",
        "        self.latent_dim = latent_dim\n",
        "        self.num_heads = num_heads\n",
        "        self.attention_1 = layers.MultiHeadAttention(\n",
        "            num_heads=num_heads, key_dim=embed_dim\n",
        "        )\n",
        "        self.attention_2 = layers.MultiHeadAttention(\n",
        "            num_heads=num_heads, key_dim=embed_dim\n",
        "        )\n",
        "        self.dense_proj = keras.Sequential(\n",
        "            [layers.Dense(latent_dim, activation=\"relu\"), layers.Dense(embed_dim),]\n",
        "        )\n",
        "        self.layernorm_1 = layers.LayerNormalization()\n",
        "        self.layernorm_2 = layers.LayerNormalization()\n",
        "        self.layernorm_3 = layers.LayerNormalization()\n",
        "        self.supports_masking = True\n",
        "\n",
        "    def call(self, inputs, encoder_outputs, mask=None):\n",
        "        causal_mask = self.get_causal_attention_mask(inputs)\n",
        "        if mask is not None:\n",
        "            padding_mask = tf.cast(mask[:, tf.newaxis, :], dtype=\"int32\")\n",
        "            padding_mask = tf.minimum(padding_mask, causal_mask)\n",
        "\n",
        "        attention_output_1 = self.attention_1(\n",
        "            query=inputs, value=inputs, key=inputs, attention_mask=causal_mask\n",
        "        )\n",
        "        out_1 = self.layernorm_1(inputs + attention_output_1)\n",
        "\n",
        "        attention_output_2 = self.attention_2(\n",
        "            query=out_1,\n",
        "            value=encoder_outputs,\n",
        "            key=encoder_outputs,\n",
        "            attention_mask=padding_mask,\n",
        "        )\n",
        "        out_2 = self.layernorm_2(out_1 + attention_output_2)\n",
        "\n",
        "        proj_output = self.dense_proj(out_2)\n",
        "        return self.layernorm_3(out_2 + proj_output)\n",
        "\n",
        "    def get_causal_attention_mask(self, inputs):\n",
        "        input_shape = tf.shape(inputs)\n",
        "        batch_size, sequence_length = input_shape[0], input_shape[1]\n",
        "        i = tf.range(sequence_length)[:, tf.newaxis]\n",
        "        j = tf.range(sequence_length)\n",
        "        mask = tf.cast(i >= j, dtype=\"int32\")\n",
        "        mask = tf.reshape(mask, (1, input_shape[1], input_shape[1]))\n",
        "        mult = tf.concat(\n",
        "            [tf.expand_dims(batch_size, -1), tf.constant([1, 1], dtype=tf.int32)],\n",
        "            axis=0,\n",
        "        )\n",
        "        return tf.tile(mask, mult)"
      ],
      "metadata": {
        "id": "flbUJTkCV0nL"
      },
      "execution_count": 10,
      "outputs": []
    },
    {
      "cell_type": "code",
      "source": [
        "embed_dim = 256\n",
        "latent_dim = 2048\n",
        "num_heads = 8\n",
        "\n",
        "encoder_inputs = keras.Input(shape=(None,), dtype=\"int64\", name=\"encoder_inputs\")\n",
        "x = PositionalEmbedding(sequence_length, vocab_size, embed_dim)(encoder_inputs)\n",
        "encoder_outputs = TransformerEncoder(embed_dim, latent_dim, num_heads)(x)\n",
        "encoder = keras.Model(encoder_inputs, encoder_outputs)\n",
        "\n",
        "decoder_inputs = keras.Input(shape=(None,), dtype=\"int64\", name=\"decoder_inputs\")\n",
        "encoded_seq_inputs = keras.Input(shape=(None, embed_dim), name=\"decoder_state_inputs\")\n",
        "x = PositionalEmbedding(sequence_length, vocab_size, embed_dim)(decoder_inputs)\n",
        "x = TransformerDecoder(embed_dim, latent_dim, num_heads)(x, encoded_seq_inputs)\n",
        "x = layers.Dropout(0.5)(x)\n",
        "decoder_outputs = layers.Dense(vocab_size, activation=\"softmax\")(x)\n",
        "decoder = keras.Model([decoder_inputs, encoded_seq_inputs], decoder_outputs)\n",
        "\n",
        "decoder_outputs = decoder([decoder_inputs, encoder_outputs])\n",
        "transformer = keras.Model(\n",
        "    [encoder_inputs, decoder_inputs], decoder_outputs, name=\"transformer\"\n",
        ")"
      ],
      "metadata": {
        "id": "8oIzJB2-W8wR"
      },
      "execution_count": 11,
      "outputs": []
    },
    {
      "cell_type": "code",
      "source": [
        "epochs = 30\n",
        "transformer\n",
        "transformer.summary()\n",
        "transformer.compile(\n",
        "    \"rmsprop\", loss=\"sparse_categorical_crossentropy\", metrics=[\"accuracy\"]\n",
        ")\n",
        "transformer.fit(train_ds, epochs=epochs, validation_data=val_ds)"
      ],
      "metadata": {
        "colab": {
          "base_uri": "https://localhost:8080/"
        },
        "id": "TqNfrdJhW-wX",
        "outputId": "66ddd8fc-fb73-445b-b373-86613eca65e6"
      },
      "execution_count": 12,
      "outputs": [
        {
          "output_type": "stream",
          "name": "stdout",
          "text": [
            "Model: \"transformer\"\n",
            "__________________________________________________________________________________________________\n",
            " Layer (type)                   Output Shape         Param #     Connected to                     \n",
            "==================================================================================================\n",
            " encoder_inputs (InputLayer)    [(None, None)]       0           []                               \n",
            "                                                                                                  \n",
            " positional_embedding (Position  (None, None, 256)   3845120     ['encoder_inputs[0][0]']         \n",
            " alEmbedding)                                                                                     \n",
            "                                                                                                  \n",
            " decoder_inputs (InputLayer)    [(None, None)]       0           []                               \n",
            "                                                                                                  \n",
            " transformer_encoder (Transform  (None, None, 256)   3155456     ['positional_embedding[0][0]']   \n",
            " erEncoder)                                                                                       \n",
            "                                                                                                  \n",
            " model_1 (Functional)           (None, None, 15000)  12959640    ['decoder_inputs[0][0]',         \n",
            "                                                                  'transformer_encoder[0][0]']    \n",
            "                                                                                                  \n",
            "==================================================================================================\n",
            "Total params: 19,960,216\n",
            "Trainable params: 19,960,216\n",
            "Non-trainable params: 0\n",
            "__________________________________________________________________________________________________\n",
            "Epoch 1/30\n",
            "2024/2024 [==============================] - 147s 68ms/step - loss: 1.2931 - accuracy: 0.5289 - val_loss: 0.9782 - val_accuracy: 0.6181\n",
            "Epoch 2/30\n",
            "2024/2024 [==============================] - 140s 69ms/step - loss: 0.9713 - accuracy: 0.6332 - val_loss: 0.8778 - val_accuracy: 0.6566\n",
            "Epoch 3/30\n",
            "2024/2024 [==============================] - 140s 69ms/step - loss: 0.8803 - accuracy: 0.6675 - val_loss: 0.8346 - val_accuracy: 0.6773\n",
            "Epoch 4/30\n",
            "2024/2024 [==============================] - 139s 69ms/step - loss: 0.8415 - accuracy: 0.6870 - val_loss: 0.8131 - val_accuracy: 0.6900\n",
            "Epoch 5/30\n",
            "2024/2024 [==============================] - 140s 69ms/step - loss: 0.8189 - accuracy: 0.7002 - val_loss: 0.7996 - val_accuracy: 0.6983\n",
            "Epoch 6/30\n",
            "2024/2024 [==============================] - 139s 69ms/step - loss: 0.8013 - accuracy: 0.7102 - val_loss: 0.7875 - val_accuracy: 0.7055\n",
            "Epoch 7/30\n",
            "2024/2024 [==============================] - 140s 69ms/step - loss: 0.7870 - accuracy: 0.7182 - val_loss: 0.7886 - val_accuracy: 0.7065\n",
            "Epoch 8/30\n",
            "2024/2024 [==============================] - 140s 69ms/step - loss: 0.7735 - accuracy: 0.7247 - val_loss: 0.7887 - val_accuracy: 0.7073\n",
            "Epoch 9/30\n",
            "2024/2024 [==============================] - 140s 69ms/step - loss: 0.7605 - accuracy: 0.7304 - val_loss: 0.7788 - val_accuracy: 0.7143\n",
            "Epoch 10/30\n",
            "2024/2024 [==============================] - 139s 69ms/step - loss: 0.7488 - accuracy: 0.7356 - val_loss: 0.7760 - val_accuracy: 0.7166\n",
            "Epoch 11/30\n",
            "2024/2024 [==============================] - 138s 68ms/step - loss: 0.7379 - accuracy: 0.7404 - val_loss: 0.7756 - val_accuracy: 0.7133\n",
            "Epoch 12/30\n",
            "2024/2024 [==============================] - 138s 68ms/step - loss: 0.7282 - accuracy: 0.7442 - val_loss: 0.7728 - val_accuracy: 0.7182\n",
            "Epoch 13/30\n",
            "2024/2024 [==============================] - 138s 68ms/step - loss: 0.7180 - accuracy: 0.7480 - val_loss: 0.7681 - val_accuracy: 0.7187\n",
            "Epoch 14/30\n",
            "2024/2024 [==============================] - 138s 68ms/step - loss: 0.7090 - accuracy: 0.7520 - val_loss: 0.7696 - val_accuracy: 0.7203\n",
            "Epoch 15/30\n",
            "2024/2024 [==============================] - 138s 68ms/step - loss: 0.6994 - accuracy: 0.7552 - val_loss: 0.7678 - val_accuracy: 0.7205\n",
            "Epoch 16/30\n",
            "2024/2024 [==============================] - 138s 68ms/step - loss: 0.6914 - accuracy: 0.7587 - val_loss: 0.7743 - val_accuracy: 0.7212\n",
            "Epoch 17/30\n",
            "2024/2024 [==============================] - 138s 68ms/step - loss: 0.6828 - accuracy: 0.7616 - val_loss: 0.7705 - val_accuracy: 0.7215\n",
            "Epoch 18/30\n",
            "2024/2024 [==============================] - 138s 68ms/step - loss: 0.6757 - accuracy: 0.7645 - val_loss: 0.7846 - val_accuracy: 0.7073\n",
            "Epoch 19/30\n",
            "2024/2024 [==============================] - 138s 68ms/step - loss: 0.6687 - accuracy: 0.7673 - val_loss: 0.7769 - val_accuracy: 0.7226\n",
            "Epoch 20/30\n",
            "2024/2024 [==============================] - 138s 68ms/step - loss: 0.6611 - accuracy: 0.7698 - val_loss: 0.7670 - val_accuracy: 0.7236\n",
            "Epoch 21/30\n",
            "2024/2024 [==============================] - 138s 68ms/step - loss: 0.6537 - accuracy: 0.7721 - val_loss: 0.7784 - val_accuracy: 0.7221\n",
            "Epoch 22/30\n",
            "2024/2024 [==============================] - 138s 68ms/step - loss: 0.6479 - accuracy: 0.7747 - val_loss: 0.7800 - val_accuracy: 0.7174\n",
            "Epoch 23/30\n",
            "2024/2024 [==============================] - 139s 69ms/step - loss: 0.6424 - accuracy: 0.7769 - val_loss: 0.7860 - val_accuracy: 0.7196\n",
            "Epoch 24/30\n",
            "2024/2024 [==============================] - 138s 68ms/step - loss: 0.6368 - accuracy: 0.7791 - val_loss: 0.7894 - val_accuracy: 0.7161\n",
            "Epoch 25/30\n",
            "2024/2024 [==============================] - 139s 69ms/step - loss: 0.6316 - accuracy: 0.7812 - val_loss: 0.7858 - val_accuracy: 0.7219\n",
            "Epoch 26/30\n",
            "2024/2024 [==============================] - 138s 68ms/step - loss: 0.6269 - accuracy: 0.7830 - val_loss: 0.7795 - val_accuracy: 0.7246\n",
            "Epoch 27/30\n",
            "2024/2024 [==============================] - 138s 68ms/step - loss: 0.6234 - accuracy: 0.7848 - val_loss: 0.7847 - val_accuracy: 0.7239\n",
            "Epoch 28/30\n",
            "2024/2024 [==============================] - 138s 68ms/step - loss: 0.6215 - accuracy: 0.7867 - val_loss: 0.8021 - val_accuracy: 0.7240\n",
            "Epoch 29/30\n",
            "2024/2024 [==============================] - 138s 68ms/step - loss: 0.6186 - accuracy: 0.7881 - val_loss: 0.8010 - val_accuracy: 0.7217\n",
            "Epoch 30/30\n",
            "2024/2024 [==============================] - 138s 68ms/step - loss: 0.6144 - accuracy: 0.7898 - val_loss: 0.7987 - val_accuracy: 0.7245\n"
          ]
        },
        {
          "output_type": "execute_result",
          "data": {
            "text/plain": [
              "<keras.callbacks.History at 0x7f09e5737ca0>"
            ]
          },
          "metadata": {},
          "execution_count": 12
        }
      ]
    },
    {
      "cell_type": "code",
      "source": [
        "por_vocab = por_vectorization.get_vocabulary()\n",
        "por_index_lookup = dict(zip(range(len(por_vocab)), por_vocab))\n",
        "max_decoded_sentence_length = 20\n",
        "\n",
        "\n",
        "def decode_sequence(input_sentence):\n",
        "    tokenized_input_sentence = eng_vectorization([input_sentence])\n",
        "    decoded_sentence = \"[start]\"\n",
        "    for i in range(max_decoded_sentence_length):\n",
        "        tokenized_target_sentence = por_vectorization([decoded_sentence])[:, :-1]\n",
        "        predictions = transformer([tokenized_input_sentence, tokenized_target_sentence])\n",
        "\n",
        "        sampled_token_index = np.argmax(predictions[0, i, :])\n",
        "        sampled_token = por_index_lookup[sampled_token_index]\n",
        "        decoded_sentence += \" \" + sampled_token\n",
        "\n",
        "        if sampled_token == \"[end]\":\n",
        "            break\n",
        "    return decoded_sentence\n",
        "\n",
        "\n",
        "test_eng_texts = [pair[0] for pair in test_pairs]\n",
        "for _ in range(30):\n",
        "    input_sentence = random.choice(test_eng_texts)\n",
        "    translated = decode_sequence(input_sentence)\n",
        "    print(input_sentence)\n",
        "    print(translated)\n",
        "    print('------------------------')"
      ],
      "metadata": {
        "colab": {
          "base_uri": "https://localhost:8080/"
        },
        "id": "NnxDiaVqXfMQ",
        "outputId": "c811795d-83d9-434c-e1a7-563086c44859"
      },
      "execution_count": 13,
      "outputs": [
        {
          "output_type": "stream",
          "name": "stdout",
          "text": [
            "You're a person.\n",
            "[start] você é uma pessoa [end]\n",
            "------------------------\n",
            "I know exactly what you're trying to do.\n",
            "[start] eu sei exatamente o que você está tentando fazer [end]\n",
            "------------------------\n",
            "Tom died around midnight.\n",
            "[start] tom morreu ao lado da meianoite [end]\n",
            "------------------------\n",
            "Tom didn't really know what to do.\n",
            "[start] tom não sabia mesmo o que fazer [end]\n",
            "------------------------\n",
            "I woke Tom up.\n",
            "[start] eu vi tom de noite [end]\n",
            "------------------------\n",
            "You can't count on his help.\n",
            "[start] não se pode contar com sua ajuda [end]\n",
            "------------------------\n",
            "She reminds him of his mother.\n",
            "[start] ela o lembra de sua mãe [end]\n",
            "------------------------\n",
            "I'll see Tom again on October 20th.\n",
            "[start] vou ver o tom de novo no dia 20 de outubro [end]\n",
            "------------------------\n",
            "This is the beginning of a new era.\n",
            "[start] isso é o começo de uma novo casa [end]\n",
            "------------------------\n",
            "I thought you could help me.\n",
            "[start] pensei que você poderia me ajudar [end]\n",
            "------------------------\n",
            "I don't feel much like dancing.\n",
            "[start] não estou com muita vontade de dançar [end]\n",
            "------------------------\n",
            "I lit my last match, hoping that I could find the door.\n",
            "[start] eu [UNK] o meu tom na do que eu encontrei a porta à porta [end]\n",
            "------------------------\n",
            "I can't pay for the car.\n",
            "[start] eu não posso pagar o carro [end]\n",
            "------------------------\n",
            "Tom isn't cold, but Mary is.\n",
            "[start] o tom não está frio mas a mary é [end]\n",
            "------------------------\n",
            "I talked Tom out of doing that.\n",
            "[start] eu falei com o tom sair disso [end]\n",
            "------------------------\n",
            "It should be a challenge.\n",
            "[start] deveria ser um sucesso [end]\n",
            "------------------------\n",
            "Who does Tom want to talk to?\n",
            "[start] com quem o tom quer falar [end]\n",
            "------------------------\n",
            "I'm getting the hang of it.\n",
            "[start] estou ficando o caminho assim [end]\n",
            "------------------------\n",
            "Did you enjoy your birthday?\n",
            "[start] você gostou do seu aniversário [end]\n",
            "------------------------\n",
            "Tom trimmed his beard.\n",
            "[start] tom fez a barba [end]\n",
            "------------------------\n",
            "You've told me this many times before.\n",
            "[start] você me disse isso muitas vezes antes [end]\n",
            "------------------------\n",
            "Many politicians don't keep their promises.\n",
            "[start] muitas pessoas não [UNK] as suas eu não [UNK] [end]\n",
            "------------------------\n",
            "Tom didn't have the courage to admit his mistake.\n",
            "[start] tom não teve coragem de fazer o seu erro [end]\n",
            "------------------------\n",
            "Tom is probably still confused.\n",
            "[start] tom provavelmente ainda está confuso [end]\n",
            "------------------------\n",
            "Did you give Tom my message?\n",
            "[start] você deu uma mensagem para o tom [end]\n",
            "------------------------\n",
            "I know you don't have time to help us.\n",
            "[start] eu sei que você não tem tempo de nos ajudar [end]\n",
            "------------------------\n",
            "What are you going to do before lunch?\n",
            "[start] o que você vai fazer antes do almoço [end]\n",
            "------------------------\n",
            "Stop bothering us.\n",
            "[start] pare nos de nos tom [end]\n",
            "------------------------\n",
            "Why is the soap on the table?\n",
            "[start] por que o eu está a conta da mesa [end]\n",
            "------------------------\n",
            "Now, you sing.\n",
            "[start] agora você canta [end]\n",
            "------------------------\n"
          ]
        }
      ]
    },
    {
      "cell_type": "code",
      "source": [],
      "metadata": {
        "id": "5yLM1KFfZ5-9"
      },
      "execution_count": 13,
      "outputs": []
    }
  ]
}